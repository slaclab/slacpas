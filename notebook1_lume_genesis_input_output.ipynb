{
 "cells": [
  {
   "cell_type": "markdown",
   "metadata": {},
   "source": [
    "# Running Genesis with lume-genesis\n",
    "\n",
    "#### In this session, we will use the lume-genesis Python package to do the following:\n",
    "- load input files\n",
    "- change input files\n",
    "- run a genesis simulation\n",
    "- load output results\n",
    "- plot output results\n",
    "\n",
    "### Some comments and parameter descriptions were taken from the [Genesis manual](https://github.com/svenreiche/Genesis-1.3-Version4/blob/master/manual). Please browse the manual as you go through the exercises.\n",
    "\n",
    "\n",
    "### ***Special thanks to Irene Wang and Aditya Thapa for the LCLS-II input files!***\n",
    "----------"
   ]
  },
  {
   "cell_type": "code",
   "execution_count": null,
   "metadata": {},
   "outputs": [],
   "source": [
    "# from lume-genesis\n",
    "from genesis.version4 import Genesis4\n",
    "import matplotlib.pyplot as plt"
   ]
  },
  {
   "cell_type": "code",
   "execution_count": null,
   "metadata": {},
   "outputs": [],
   "source": [
    "import numpy as np\n",
    "import matplotlib.pyplot as plt\n",
    "import matplotlib.animation as animation"
   ]
  },
  {
   "cell_type": "markdown",
   "metadata": {},
   "source": [
    "----"
   ]
  },
  {
   "cell_type": "markdown",
   "metadata": {},
   "source": [
    "# 1. Make a run directory"
   ]
  },
  {
   "cell_type": "code",
   "execution_count": null,
   "metadata": {},
   "outputs": [],
   "source": [
    "# Lets define our input files\n",
    "lattice    = 'examples/lcls-II.lat'\n",
    "input_file = 'examples/lcls-II.in'"
   ]
  },
  {
   "cell_type": "markdown",
   "metadata": {},
   "source": [
    "# 2. Initialize lume-genesis"
   ]
  },
  {
   "cell_type": "code",
   "execution_count": null,
   "metadata": {},
   "outputs": [],
   "source": [
    "# Initialize the run, make genesis object with the LCLSII template input file.\n",
    "gen = Genesis4(input_file)"
   ]
  },
  {
   "cell_type": "markdown",
   "metadata": {},
   "source": [
    "The ```Genesis4()``` call above loaded a premade genesis input and lattice file.   \n",
    "After running this command, we can now look at what is in the input file and make changes in Python.   \n",
    "All values in ```gen.input``` are parameters in the input file. \n",
    "Take a look at the information from the input file in the following cells:"
   ]
  },
  {
   "cell_type": "markdown",
   "metadata": {},
   "source": [
    "# 3. Look at loaded input with Python"
   ]
  },
  {
   "cell_type": "code",
   "execution_count": null,
   "metadata": {},
   "outputs": [],
   "source": [
    "# All inputs in Python are fields from the genesis input file.\n",
    "# If there is no value in the input file template, default values are filled in.\n",
    "gen.input"
   ]
  },
  {
   "cell_type": "code",
   "execution_count": null,
   "metadata": {},
   "outputs": [],
   "source": [
    "gen.initial_particles # empty because no beam is loaded.\n",
    "# You can supply genesis an initial beam distribution."
   ]
  },
  {
   "cell_type": "code",
   "execution_count": null,
   "metadata": {},
   "outputs": [],
   "source": [
    "dir(gen.input) # list of possible inputs you can change."
   ]
  },
  {
   "cell_type": "code",
   "execution_count": null,
   "metadata": {},
   "outputs": [],
   "source": [
    "gen.output # Output is empty because we have not run a simulation yet."
   ]
  },
  {
   "cell_type": "markdown",
   "metadata": {},
   "source": [
    "Next, look at the lattice info.   \n",
    "There are two items in the lattice information: \n",
    "- elements = beam line components.\n",
    "- filename = file with lattice definition. "
   ]
  },
  {
   "cell_type": "code",
   "execution_count": null,
   "metadata": {},
   "outputs": [],
   "source": [
    "# list of elements and parameters\n",
    "# L = length of elements\n",
    "gen.input.lattice"
   ]
  },
  {
   "cell_type": "markdown",
   "metadata": {},
   "source": [
    "Genesis lattice files consist of components in the beamline (from [manual](https://github.com/svenreiche/Genesis-1.3-Version4/blob/master/manual/LATTICE.md)):\n",
    "\n",
    "- UND - Main magnetic field (undulator)\n",
    "- Dx  - Drift section\n",
    "- QF  - Focusing quadrupole \n",
    "- QD  - Defocusing quadrupole \n",
    "\n",
    "Information included in the element descriptions: \n",
    "- L    = length of the structure in measure of the unit length.\n",
    "- aw   = the dimensionless rms undulator parameter.\n",
    "- nwig = number of periods. \n",
    "- lambdau = unulator period length in m.\n",
    "\n",
    "See the manual page above for more details."
   ]
  },
  {
   "cell_type": "markdown",
   "metadata": {},
   "source": [
    "# 4. Run LCLS-II Genesis file"
   ]
  },
  {
   "cell_type": "markdown",
   "metadata": {},
   "source": [
    "Genesis can output many types of data. There are several flags for data output that can be changed in the input file or Python. In these examples, we are only running steady state (time independant) simulations and using default outputs. For more details on steady state simulation, check out this example in the manual: https://github.com/svenreiche/Genesis-1.3-Version4/tree/master/examples/Example1-SteadyState."
   ]
  },
  {
   "cell_type": "code",
   "execution_count": null,
   "metadata": {},
   "outputs": [],
   "source": [
    "gen.verbose = True"
   ]
  },
  {
   "cell_type": "code",
   "execution_count": null,
   "metadata": {},
   "outputs": [],
   "source": [
    "output = gen.run()"
   ]
  },
  {
   "cell_type": "code",
   "execution_count": null,
   "metadata": {},
   "outputs": [],
   "source": [
    "# Configure the runs with changes made above\n",
    "#dir(gen.configure)"
   ]
  },
  {
   "cell_type": "markdown",
   "metadata": {},
   "source": [
    "# 5. Output\n",
    "\n",
    "There are many types of output that can be saved. We leave the defaults in this case."
   ]
  },
  {
   "cell_type": "code",
   "execution_count": null,
   "metadata": {},
   "outputs": [],
   "source": [
    "gen.output # gives info about run time and outputs."
   ]
  },
  {
   "cell_type": "markdown",
   "metadata": {},
   "source": [
    "The run above is by default single core.   \n",
    "You can run also run using mpi on multiple cores, we leave that to interested parties. "
   ]
  },
  {
   "cell_type": "markdown",
   "metadata": {},
   "source": [
    "# 6. Archiving the data\n",
    "\n",
    "Saving the data to an h5 file allows you to reload with lume-genesis, and save most data in one file.   \n",
    "You can reload your data after closing jupyterlab, and don't need to leave the browser window open.\n",
    "\n",
    "Some notes on output files:  \n",
    "fld - field history file (can get large)  \n",
    "par - can get very large if many slices  \n",
    "dlf (wavefront), dpa (phase space) are final field and particle files\n",
    "\n",
    "More examples can be found here: https://github.com/slaclab/lume-genesis/tree/master/docs/examples/genesis4."
   ]
  },
  {
   "cell_type": "code",
   "execution_count": null,
   "metadata": {},
   "outputs": [],
   "source": [
    "# Archive data to h5 so that you can reload it later.\n",
    "gen.archive('examples/lcls-II_sase.h5')"
   ]
  },
  {
   "cell_type": "markdown",
   "metadata": {},
   "source": [
    "# 7. Loading data from archive file "
   ]
  },
  {
   "cell_type": "code",
   "execution_count": null,
   "metadata": {},
   "outputs": [],
   "source": [
    "# Output data can be loaded in a new or saved in gen object\n",
    "#gen.load_archive('examples/LCLSII_sase.h5')"
   ]
  },
  {
   "cell_type": "markdown",
   "metadata": {},
   "source": [
    "----"
   ]
  },
  {
   "cell_type": "markdown",
   "metadata": {},
   "source": [
    "# 8. Plotting results\n",
    "\n",
    "LUME-Genesis offers a plotting helpers on the Genesis4 object (and `Genesis4Output` itself) to work with the output data. You can specify individual data keys to plot the output data and the layout below."
   ]
  },
  {
   "cell_type": "markdown",
   "metadata": {},
   "source": [
    "### Lattice plot\n",
    "\n",
    "View the lattice data (as interpreted by Genesis4) by interacting with the `output.lattice` object:"
   ]
  },
  {
   "cell_type": "code",
   "execution_count": null,
   "metadata": {},
   "outputs": [],
   "source": [
    "output.lattice.plot();"
   ]
  },
  {
   "cell_type": "code",
   "execution_count": null,
   "metadata": {},
   "outputs": [],
   "source": [
    "#Plotting beam size vs. undulator\n",
    "gen.plot([\"beam_xsize\", \"beam_ysize\"])"
   ]
  },
  {
   "cell_type": "code",
   "execution_count": null,
   "metadata": {},
   "outputs": [],
   "source": [
    "# Plot SASE power\n",
    "power = gen.plot([\"field_power\"])"
   ]
  },
  {
   "cell_type": "code",
   "execution_count": null,
   "metadata": {},
   "outputs": [],
   "source": [
    "# Plot log of power.\n",
    "power = gen.plot([\"field_power\"], yscale='log')"
   ]
  },
  {
   "cell_type": "code",
   "execution_count": null,
   "metadata": {},
   "outputs": [],
   "source": [
    "gen.plot(\"field_energy\", y2=[\"field_xsize\", \"field_ysize\"], ylim2=[0, 100e-6])"
   ]
  },
  {
   "cell_type": "code",
   "execution_count": null,
   "metadata": {},
   "outputs": [],
   "source": [
    "len(output.load_particles())"
   ]
  },
  {
   "cell_type": "code",
   "execution_count": null,
   "metadata": {},
   "outputs": [],
   "source": [
    "output.load_particles()"
   ]
  },
  {
   "cell_type": "code",
   "execution_count": null,
   "metadata": {},
   "outputs": [],
   "source": [
    "output.load_particles()\n",
    "pbeg = output.particles['beginning']\n",
    "pend = output.particles['end'] "
   ]
  },
  {
   "cell_type": "code",
   "execution_count": null,
   "metadata": {},
   "outputs": [],
   "source": [
    "pbeg.plot(\"z\", \"energy\", bins=200)"
   ]
  },
  {
   "cell_type": "code",
   "execution_count": null,
   "metadata": {},
   "outputs": [],
   "source": [
    "pend.plot(\"z\", \"energy\", bins=200)"
   ]
  },
  {
   "cell_type": "code",
   "execution_count": null,
   "metadata": {},
   "outputs": [],
   "source": [
    "# Beam movie here\n",
    "# change number of beam steps saved\n",
    "# re-run simulation\n",
    "# plot in movie"
   ]
  },
  {
   "cell_type": "code",
   "execution_count": null,
   "metadata": {},
   "outputs": [],
   "source": [
    "steps = len(output.particles)\n",
    "steps"
   ]
  },
  {
   "cell_type": "code",
   "execution_count": null,
   "metadata": {},
   "outputs": [],
   "source": [
    "for n in steps[2:]:\n",
    "    #print(n)\n",
    "    hold = output.particles[n]\n",
    "    #data, xedge, yedge, mesh = plt.hist2d(hold.z, hold.energy, bins=200)\n",
    "    hold.plot(\"z\", \"energy\", bins=200)\n",
    "    plt.show()\n",
    "    #print(len(all_data))\n",
    "    #hold.plot('z', 'energy', bins=200)\n",
    "    #plt.savefig('hold'+str(n)+'.pdf')"
   ]
  },
  {
   "cell_type": "code",
   "execution_count": null,
   "metadata": {},
   "outputs": [],
   "source": [
    "fig, ax = plt.subplots(figsize = (8,8))\n",
    "\n",
    "#Create 2d Histogram\n",
    "data,x,y = np.histogram2d(pbeg.z,pbeg.energy, bins = 200)\n",
    "\n",
    "#Smooth with filter\n",
    "im = plt.imshow(data.T)#, interpolation = 'gaussian', origin = 'lower')\n",
    "\n",
    "#Define animation. \n",
    "# def animate(i) :\n",
    "#     X = np.random.randn(100000)\n",
    "#     Y = np.random.randn(100000) + 5\n",
    "#     data,x,y = np.histogram2d(X,Y, bins = 15)\n",
    "#     im.set_data(data)\n",
    "\n",
    "def animate(i):\n",
    "    #print(i)\n",
    "    hold = output.particles[int(i)]\n",
    "    data, xedge, yedge = np.histogram2d(hold.z, hold.energy, bins=200)\n",
    "    im.set_data(data.T)\n",
    "\n",
    "\n",
    "ani = animation.FuncAnimation(fig, animate, np.arange(0,1800,100),\n",
    "                          interval = 500, blit = False)\n",
    "\n",
    "ani.save('movie.mp4')"
   ]
  },
  {
   "cell_type": "markdown",
   "metadata": {},
   "source": [
    "----"
   ]
  }
 ],
 "metadata": {
  "kernelspec": {
   "display_name": "Python 3 (ipykernel)",
   "language": "python",
   "name": "python3"
  },
  "language_info": {
   "codemirror_mode": {
    "name": "ipython",
    "version": 3
   },
   "file_extension": ".py",
   "mimetype": "text/x-python",
   "name": "python",
   "nbconvert_exporter": "python",
   "pygments_lexer": "ipython3",
   "version": "3.12.4"
  }
 },
 "nbformat": 4,
 "nbformat_minor": 4
}
